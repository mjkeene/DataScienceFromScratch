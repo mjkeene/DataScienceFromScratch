{
 "cells": [
  {
   "cell_type": "markdown",
   "id": "e848781f",
   "metadata": {},
   "source": [
    "<h3>Chapter 4: Linear Algebra</h3>\n",
    "\n",
    "Linear algebra is the branch of mathematics that deals with <i>vector spaces</i>. It underpins a large number of data science concepts and techniques, and will be used in subsequent chapters.\n",
    "\n",
    "Good refresher resource: http://cs229.stanford.edu/summer2020/cs229-linalg.pdf\n",
    "\n",
    "<i>Vectors</i> are objects that can be added together (to form new vectors) and that can be multiplied by <i>scalars</i> (i.e., numbers) to form new vectors. Vectors are points in some finite-dimensional space. For example, if you have heights, weights, and ages of a large number of people, you can treat your data as three-dimensional vectors (height, weight, age). If you're teaching a class with four exams, you can treat student grades as four-dimensional vectors (exam1, exam2, exam3, exam4).\n"
   ]
  },
  {
   "cell_type": "code",
   "execution_count": 1,
   "id": "35304432",
   "metadata": {},
   "outputs": [
    {
     "data": {
      "text/plain": [
       "[3, 9]"
      ]
     },
     "execution_count": 1,
     "metadata": {},
     "output_type": "execute_result"
    }
   ],
   "source": [
    "# The simplest, from-scratch approach is to represent vectors as lists of numbers. A list of\n",
    "# three numbers corresponds to a vector in three-dimensional space, and vice versa:\n",
    "\n",
    "height_weight_age = [70,  # inches\n",
    "                     170, # pounds\n",
    "                     40]  # years\n",
    "\n",
    "# However, Python lists aren't vectors, so in order to perform arithmetic on them,\n",
    "# we'll build these tools ourselves\n",
    "# In reality, these will have terrible performance, so we'd actually use NumPy\n",
    "\n",
    "def vector_add(v, w):\n",
    "    \"\"\"Vector addition is componentwise\"\"\"\n",
    "    return [v_i + w_i for v_i, w_i in zip(v, w)]\n",
    "\n",
    "vector_add([1, 2], [2, 7])"
   ]
  },
  {
   "cell_type": "code",
   "execution_count": 2,
   "id": "d1812464",
   "metadata": {},
   "outputs": [
    {
     "data": {
      "text/plain": [
       "[-1, -5]"
      ]
     },
     "execution_count": 2,
     "metadata": {},
     "output_type": "execute_result"
    }
   ],
   "source": [
    "# Subtraction is similar to addition\n",
    "\n",
    "def vector_subtract(v, w):\n",
    "    \"\"\"Vector subtraction is componentwise\"\"\"\n",
    "    return [v_i - w_i for v_i, w_i in zip(v, w)]\n",
    "\n",
    "vector_subtract([1, 2], [2, 7])"
   ]
  },
  {
   "cell_type": "code",
   "execution_count": 3,
   "id": "638a37e3",
   "metadata": {},
   "outputs": [
    {
     "data": {
      "text/plain": [
       "[9, 12]"
      ]
     },
     "execution_count": 3,
     "metadata": {},
     "output_type": "execute_result"
    }
   ],
   "source": [
    "def vector_sum(vectors):\n",
    "    \"\"\"Componentwise sum of a list of vectors\"\"\"\n",
    "    result = vectors[0]\n",
    "    for vector in vectors[1:]:\n",
    "        result = vector_add(result, vector)\n",
    "    return result\n",
    "\n",
    "vector_sum([[1,2], [3,4], [5,6]])"
   ]
  },
  {
   "cell_type": "code",
   "execution_count": 4,
   "id": "b9107304",
   "metadata": {},
   "outputs": [
    {
     "data": {
      "text/plain": [
       "[9, 12]"
      ]
     },
     "execution_count": 4,
     "metadata": {},
     "output_type": "execute_result"
    }
   ],
   "source": [
    "# We're really just 'reduce-ing' the list of vectors using vector_add, so let's use\n",
    "# a higher order function to simplify\n",
    "from functools import reduce\n",
    "\n",
    "def vector_sum(vectors):\n",
    "    \"\"\"Simpler implementation for vector_sum\"\"\"\n",
    "    return reduce(vector_add, vectors)\n",
    "vector_sum([[1,2], [3,4], [5,6]])"
   ]
  },
  {
   "cell_type": "code",
   "execution_count": 5,
   "id": "570b6208",
   "metadata": {},
   "outputs": [
    {
     "data": {
      "text/plain": [
       "[5, 10, 15]"
      ]
     },
     "execution_count": 5,
     "metadata": {},
     "output_type": "execute_result"
    }
   ],
   "source": [
    "def scalar_multiply(n, v):\n",
    "    \"\"\"n is a number, v is a vector\"\"\"\n",
    "    return [n * v_i for v_i in v]\n",
    "\n",
    "scalar_multiply(5, [1, 2, 3])"
   ]
  },
  {
   "cell_type": "code",
   "execution_count": 6,
   "id": "e25da931",
   "metadata": {},
   "outputs": [
    {
     "data": {
      "text/plain": [
       "[3.0, 4.0]"
      ]
     },
     "execution_count": 6,
     "metadata": {},
     "output_type": "execute_result"
    }
   ],
   "source": [
    "def vector_mean(vectors):\n",
    "    \"\"\"compute the vector whose ith element is the mean of the\n",
    "    ith element of the input vectors\"\"\"\n",
    "    n = len(vectors)\n",
    "    return scalar_multiply(1/n, vector_sum(vectors))\n",
    "\n",
    "vector_mean([[1,2], [3,4], [5,6]])"
   ]
  },
  {
   "cell_type": "code",
   "execution_count": 7,
   "id": "a2ea88fe",
   "metadata": {},
   "outputs": [
    {
     "data": {
      "text/plain": [
       "32"
      ]
     },
     "execution_count": 7,
     "metadata": {},
     "output_type": "execute_result"
    }
   ],
   "source": [
    "def dot(v, w):\n",
    "    \"\"\"The dot product of two vectors is the sum of their componentwise products\n",
    "    v_1 * w_1 + ... + v_n * w_n\"\"\"\n",
    "    return sum(v_i * w_i for v_i, w_i in zip(v, w))\n",
    "\n",
    "# 1*4 + 2*5 + 3*6 = 4 + 10 + 18 = 32\n",
    "dot([1,2,3], [4,5,6])\n",
    "\n",
    "# The dot product measures how far the vector v extends in the w direction.\n",
    "# It's the length of the vector you'd get if you 'projected' v onto w"
   ]
  },
  {
   "cell_type": "code",
   "execution_count": 8,
   "id": "a3d7127a",
   "metadata": {},
   "outputs": [
    {
     "data": {
      "text/plain": [
       "77"
      ]
     },
     "execution_count": 8,
     "metadata": {},
     "output_type": "execute_result"
    }
   ],
   "source": [
    "# This will be used to compute its 'magnitude' (or length)\n",
    "\n",
    "def sum_of_squares(v):\n",
    "    \"\"\"v_1 * v_1 + ... + v_n * v_n\"\"\"\n",
    "    return dot(v, v)\n",
    "\n",
    "sum_of_squares([4,5,6])"
   ]
  },
  {
   "cell_type": "code",
   "execution_count": 9,
   "id": "3b240d11",
   "metadata": {},
   "outputs": [],
   "source": [
    "import math\n",
    "\n",
    "def magnitude(v):\n",
    "    return math.sqrt(sum_of_squares(v))"
   ]
  },
  {
   "cell_type": "markdown",
   "id": "7c47724d",
   "metadata": {},
   "source": [
    "We now have all the pieces we need to compute the distance between two vectors, defined as:\n",
    "\n",
    "$\\sqrt{(v_{1} - w_{1})^{2} + ... + (v_{n} - w_{n})^{2}}$"
   ]
  },
  {
   "cell_type": "code",
   "execution_count": 10,
   "id": "884f8b16",
   "metadata": {},
   "outputs": [],
   "source": [
    "def squared_distance(v, w):\n",
    "    \"\"\"(v_1 - w_1) ** 2 + ... + (v_n - w_n) ** 2\"\"\"\n",
    "    return sum_of_squares(vector_subtract(v, w))"
   ]
  },
  {
   "cell_type": "code",
   "execution_count": 11,
   "id": "6c477b72",
   "metadata": {},
   "outputs": [],
   "source": [
    "def distance(v, w):\n",
    "    return math.sqrt(squared_distance(v, w))\n",
    "\n",
    "# Equivalently, and more simply:\n",
    "def distance(v, w):\n",
    "    return magnitude(vector_subtract(v, w))"
   ]
  },
  {
   "cell_type": "code",
   "execution_count": 12,
   "id": "3bf99c8f",
   "metadata": {},
   "outputs": [],
   "source": [
    "# Note that in real Python code, we would use the NumPy library since it has high-performance arrays and\n",
    "# arithmetic operations included. The implementations here would have terrible performance."
   ]
  },
  {
   "cell_type": "markdown",
   "id": "23d912ce",
   "metadata": {},
   "source": [
    "<h3>Matrices</h3>\n",
    "\n",
    "A <i>matrix</i> is a two-dimensional collection of numbers. We will represent matrices as lists of lists, with each inner list having the same size and representing a <i>row</i> of the matrix. If A is a matrix, then $A[i][j]$ is the element in the <i>ith</i> row and <i>jth</i> column."
   ]
  },
  {
   "cell_type": "code",
   "execution_count": 13,
   "id": "11b8a5cb",
   "metadata": {},
   "outputs": [],
   "source": [
    "# A has 2 rows and 3 columns\n",
    "A = [[1, 2, 3],\n",
    "     [4, 5, 6]]\n",
    "\n",
    "# B has 3 rows and 2 columns\n",
    "B = [[1, 2],\n",
    "     [3, 4],\n",
    "     [5, 6]]"
   ]
  },
  {
   "cell_type": "code",
   "execution_count": 14,
   "id": "4c0be042",
   "metadata": {},
   "outputs": [
    {
     "data": {
      "text/plain": [
       "(2, 3)"
      ]
     },
     "execution_count": 14,
     "metadata": {},
     "output_type": "execute_result"
    }
   ],
   "source": [
    "def shape(A):\n",
    "    num_rows = len(A)\n",
    "    num_cols = len(A[0]) if A else 0\n",
    "    return num_rows, num_cols\n",
    "shape(A)"
   ]
  },
  {
   "cell_type": "code",
   "execution_count": 15,
   "id": "663b0d6a",
   "metadata": {},
   "outputs": [],
   "source": [
    "def get_row(A, i):\n",
    "    return A[i]\n",
    "\n",
    "def get_column(A, j):\n",
    "    return [A_i[j] for A_i in A]"
   ]
  },
  {
   "cell_type": "code",
   "execution_count": 16,
   "id": "c193f3d2",
   "metadata": {},
   "outputs": [
    {
     "name": "stdout",
     "output_type": "stream",
     "text": [
      "[1, 2, 3]\n",
      "[1, 4]\n"
     ]
    }
   ],
   "source": [
    "print(get_row(A, 0))\n",
    "print(get_column(A, 0))"
   ]
  },
  {
   "cell_type": "code",
   "execution_count": 17,
   "id": "33fc36f0",
   "metadata": {},
   "outputs": [],
   "source": [
    "def make_matrix(num_rows, num_cols, entry_fn):\n",
    "    \"\"\"returns a num_rows x num_cols matrix whose\n",
    "    (i, j) entry is entry_fn(i, j)\"\"\"\n",
    "    return [[entry_fn(i, j)           # given i, create a list\n",
    "            for j in range(num_cols)] # [entry_fn(i, 0), ... ]\n",
    "            for i in range(num_rows)] # create one list for each i"
   ]
  },
  {
   "cell_type": "code",
   "execution_count": 18,
   "id": "525fd4ec",
   "metadata": {},
   "outputs": [
    {
     "data": {
      "text/plain": [
       "[[1, 0, 0, 0, 0],\n",
       " [0, 1, 0, 0, 0],\n",
       " [0, 0, 1, 0, 0],\n",
       " [0, 0, 0, 1, 0],\n",
       " [0, 0, 0, 0, 1]]"
      ]
     },
     "execution_count": 18,
     "metadata": {},
     "output_type": "execute_result"
    }
   ],
   "source": [
    "def is_diagonal(i, j):\n",
    "    \"\"\"1's on the 'diagonal', 0's everywhere else\"\"\"\n",
    "    return 1 if i == j else 0\n",
    "\n",
    "identity_matrix = make_matrix(5, 5, is_diagonal)\n",
    "identity_matrix"
   ]
  },
  {
   "cell_type": "markdown",
   "id": "2a0b5335",
   "metadata": {},
   "source": [
    "Matrices will be important for several reasons.\n",
    "\n",
    "1. A matrix can be used to represent a data set consisting of multiple vectors, simply by considering each vector as a row of the matrix. For example, if you had the heights, weights, and ages of 1,000 people you could put them in a 1,000 x 3 matrix\n",
    "\n",
    "2. An n x k matrix can represent a linear function that maps k-dimensional vectors to n-dimensional vectors. \n",
    "\n",
    "3. Matrices can be used to represent binary relationships. For example, a matrix representing friendships could be A[i][j] = 1 if nodes i and j are connected and 0 otherwise."
   ]
  },
  {
   "cell_type": "code",
   "execution_count": 19,
   "id": "d380fae3",
   "metadata": {},
   "outputs": [],
   "source": [
    "# In chapter 1, we had:\n",
    "\n",
    "friendships = [(0, 1), (0, 2), (1, 2), (1, 3), (2, 3), (3, 4),\n",
    "                   (4, 5), (5, 6), (5, 7), (6, 8), (7, 8), (8, 9)]\n",
    "\n",
    "\n",
    "# This could be represented as a matrix:\n",
    "     #     user 0  1  2  3  4  5  6  7  8  9\n",
    "friendships = [[0, 1, 1, 0, 0, 0, 0, 0, 0, 0], # user 0\n",
    "               [1, 0, 1, 1, 0, 0, 0, 0, 0, 0], # user 1 \n",
    "               [1, 1, 0, 1, 0, 0, 0, 0, 0, 0], # user 2 \n",
    "               [0, 1, 1, 0, 1, 0, 0, 0, 0, 0], # user 3 \n",
    "               [0, 0, 0, 1, 0, 1, 0, 0, 0, 0], # user 4 \n",
    "               [0, 0, 0, 0, 1, 0, 1, 1, 0, 0], # user 5 \n",
    "               [0, 0, 0, 0, 0, 1, 0, 0, 1, 0], # user 6 \n",
    "               [0, 0, 0, 0, 0, 1, 0, 0, 1, 0], # user 7 \n",
    "               [0, 0, 0, 0, 0, 0, 1, 1, 0, 1], # user 8 \n",
    "               [0, 0, 0, 0, 0, 0, 0, 0, 1, 0]] # user 9"
   ]
  },
  {
   "cell_type": "code",
   "execution_count": 20,
   "id": "56245315",
   "metadata": {},
   "outputs": [
    {
     "data": {
      "text/plain": [
       "True"
      ]
     },
     "execution_count": 20,
     "metadata": {},
     "output_type": "execute_result"
    }
   ],
   "source": [
    "friendships[0][2] == 1 # True, 0 and 2 are friends"
   ]
  },
  {
   "cell_type": "code",
   "execution_count": 21,
   "id": "3d395f42",
   "metadata": {},
   "outputs": [
    {
     "data": {
      "text/plain": [
       "False"
      ]
     },
     "execution_count": 21,
     "metadata": {},
     "output_type": "execute_result"
    }
   ],
   "source": [
    "friendships[0][8] == 1 # False, 0 and 8 are not friends"
   ]
  },
  {
   "cell_type": "code",
   "execution_count": 22,
   "id": "b2790708",
   "metadata": {},
   "outputs": [
    {
     "data": {
      "text/plain": [
       "[4, 6, 7]"
      ]
     },
     "execution_count": 22,
     "metadata": {},
     "output_type": "execute_result"
    }
   ],
   "source": [
    "# Only need to look at single row to determine friends\n",
    "\n",
    "friends_of_five = [i for i, is_friend in enumerate(friendships[5]) if is_friend]\n",
    "friends_of_five"
   ]
  },
  {
   "cell_type": "code",
   "execution_count": null,
   "id": "fc2da90f",
   "metadata": {},
   "outputs": [],
   "source": []
  }
 ],
 "metadata": {
  "kernelspec": {
   "display_name": "Python 3",
   "language": "python",
   "name": "python3"
  },
  "language_info": {
   "codemirror_mode": {
    "name": "ipython",
    "version": 3
   },
   "file_extension": ".py",
   "mimetype": "text/x-python",
   "name": "python",
   "nbconvert_exporter": "python",
   "pygments_lexer": "ipython3",
   "version": "3.8.8"
  }
 },
 "nbformat": 4,
 "nbformat_minor": 5
}
