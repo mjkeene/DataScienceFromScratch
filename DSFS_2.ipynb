{
 "cells": [
  {
   "cell_type": "markdown",
   "id": "63b47b04",
   "metadata": {},
   "source": [
    "<h3>Chapter 2: Python Crash Course (Review)</h3>"
   ]
  },
  {
   "cell_type": "code",
   "execution_count": 1,
   "id": "a497ce9b",
   "metadata": {},
   "outputs": [
    {
     "name": "stdout",
     "output_type": "stream",
     "text": [
      "The Zen of Python, by Tim Peters\n",
      "\n",
      "Beautiful is better than ugly.\n",
      "Explicit is better than implicit.\n",
      "Simple is better than complex.\n",
      "Complex is better than complicated.\n",
      "Flat is better than nested.\n",
      "Sparse is better than dense.\n",
      "Readability counts.\n",
      "Special cases aren't special enough to break the rules.\n",
      "Although practicality beats purity.\n",
      "Errors should never pass silently.\n",
      "Unless explicitly silenced.\n",
      "In the face of ambiguity, refuse the temptation to guess.\n",
      "There should be one-- and preferably only one --obvious way to do it.\n",
      "Although that way may not be obvious at first unless you're Dutch.\n",
      "Now is better than never.\n",
      "Although never is often better than *right* now.\n",
      "If the implementation is hard to explain, it's a bad idea.\n",
      "If the implementation is easy to explain, it may be a good idea.\n",
      "Namespaces are one honking great idea -- let's do more of those!\n"
     ]
    }
   ],
   "source": [
    "# The Zen of Python\n",
    "\n",
    "import this"
   ]
  },
  {
   "cell_type": "code",
   "execution_count": 2,
   "id": "b402e449",
   "metadata": {},
   "outputs": [
    {
     "data": {
      "text/plain": [
       "2"
      ]
     },
     "execution_count": 2,
     "metadata": {},
     "output_type": "execute_result"
    }
   ],
   "source": [
    "# Functions are 'first-class' in Python, so they can be assigned to vars and passed into\n",
    "# other functions\n",
    "\n",
    "def double(x):\n",
    "    \"\"\"Optional docstring to explain what function does\"\"\"\n",
    "    return x * 2\n",
    "\n",
    "def apply_to_one(f):\n",
    "    \"\"\"Take function f, call it with value 1\"\"\"\n",
    "    return f(1)\n",
    "\n",
    "my_double = double\n",
    "x = apply_to_one(my_double)\n",
    "x"
   ]
  },
  {
   "cell_type": "code",
   "execution_count": 3,
   "id": "5bfa1e60",
   "metadata": {},
   "outputs": [
    {
     "name": "stdout",
     "output_type": "stream",
     "text": [
      "4\n",
      "4\n"
     ]
    }
   ],
   "source": [
    "# Should generally use def instead of Lambda functions \n",
    "another_double = lambda x : 2 * x\n",
    "print(another_double(2))\n",
    "\n",
    "# Just do this instead\n",
    "def another_double(x):\n",
    "    return 2 * x\n",
    "print(another_double(2))"
   ]
  },
  {
   "cell_type": "code",
   "execution_count": 4,
   "id": "f89c682d",
   "metadata": {},
   "outputs": [
    {
     "data": {
      "text/plain": [
       "[1, 2, 3, 4, 5, 6]"
      ]
     },
     "execution_count": 4,
     "metadata": {},
     "output_type": "execute_result"
    }
   ],
   "source": [
    "# Concat lists\n",
    "x = [1, 2, 3]\n",
    "x.extend([4, 5, 6])\n",
    "x"
   ]
  },
  {
   "cell_type": "code",
   "execution_count": 5,
   "id": "df22c784",
   "metadata": {},
   "outputs": [
    {
     "data": {
      "text/plain": [
       "[1, 2, 3, 4, 5, 6]"
      ]
     },
     "execution_count": 5,
     "metadata": {},
     "output_type": "execute_result"
    }
   ],
   "source": [
    "# Avoid modifying x by using list addition\n",
    "x = [1, 2, 3]\n",
    "y = x + [4, 5, 6]\n",
    "y"
   ]
  },
  {
   "cell_type": "code",
   "execution_count": 6,
   "id": "6f327cbe",
   "metadata": {},
   "outputs": [
    {
     "name": "stdout",
     "output_type": "stream",
     "text": [
      "1\n",
      "2\n"
     ]
    }
   ],
   "source": [
    "# Unpack items from list\n",
    "x, y = [1, 2]\n",
    "print(x)\n",
    "print(y)"
   ]
  },
  {
   "cell_type": "code",
   "execution_count": 7,
   "id": "d1a9bf60",
   "metadata": {},
   "outputs": [],
   "source": [
    "from collections import defaultdict, Counter\n",
    "\n",
    "# These are both useful and commonly used:\n",
    "# defaultdict sets a default object value, even for previously unseen keys\n",
    "# Counter maps keys to counts, useful for histograms"
   ]
  },
  {
   "cell_type": "code",
   "execution_count": 8,
   "id": "9611ec9b",
   "metadata": {},
   "outputs": [
    {
     "data": {
      "text/plain": [
       "(False, True)"
      ]
     },
     "execution_count": 8,
     "metadata": {},
     "output_type": "execute_result"
    }
   ],
   "source": [
    "any([]), all([])"
   ]
  },
  {
   "cell_type": "code",
   "execution_count": 9,
   "id": "42050513",
   "metadata": {},
   "outputs": [
    {
     "name": "stdout",
     "output_type": "stream",
     "text": [
      "0\n",
      "1\n",
      "2\n",
      "3\n",
      "4\n",
      "5\n",
      "6\n",
      "7\n",
      "8\n",
      "9\n"
     ]
    }
   ],
   "source": [
    "# Generators and Iterators\n",
    "# A list of range(1000000) creates an actual list of 1 million elements\n",
    "# If you only need one at a time, this can be a huge source of inefficiency and memory\n",
    "# A generator produces values lazily and can be iterated over\n",
    "# In Python3, range itself is lazy (no need for xrange anymore)\n",
    "# Can only iterate through a generator once, it needs to be re-created each time\n",
    "\n",
    "def lazy_range(n):\n",
    "    i = 0\n",
    "    while i < n:\n",
    "        yield i\n",
    "        i += 1\n",
    "\n",
    "for i in lazy_range(10):\n",
    "    print(i)"
   ]
  },
  {
   "cell_type": "code",
   "execution_count": 10,
   "id": "2cfe3eca",
   "metadata": {},
   "outputs": [],
   "source": [
    "# dict has an items() and iteritems() method that returns a list of key/val pairs\n",
    "# iteritems() lazily yields the key/val pairs one at a time as it's iterated over"
   ]
  },
  {
   "cell_type": "code",
   "execution_count": 11,
   "id": "d0b6e502",
   "metadata": {},
   "outputs": [
    {
     "data": {
      "text/plain": [
       "[0.18110975123539919,\n",
       " 0.10683220362538481,\n",
       " 0.1309691049420757,\n",
       " 0.8776976320761399]"
      ]
     },
     "execution_count": 11,
     "metadata": {},
     "output_type": "execute_result"
    }
   ],
   "source": [
    "# Randomness\n",
    "import random\n",
    "\n",
    "four_uniform_randoms = [random.random() for _ in range(4)]\n",
    "four_uniform_randoms"
   ]
  },
  {
   "cell_type": "code",
   "execution_count": 12,
   "id": "19eb7f2e",
   "metadata": {},
   "outputs": [
    {
     "name": "stdout",
     "output_type": "stream",
     "text": [
      "0.5714025946899135\n",
      "0.5714025946899135\n"
     ]
    }
   ],
   "source": [
    "random.seed(10)\n",
    "print(random.random())\n",
    "random.seed(10)\n",
    "print(random.random())"
   ]
  },
  {
   "cell_type": "code",
   "execution_count": 13,
   "id": "9bee7d02",
   "metadata": {},
   "outputs": [
    {
     "name": "stdout",
     "output_type": "stream",
     "text": [
      "6\n",
      "4\n"
     ]
    }
   ],
   "source": [
    "print(random.randrange(10)) # choose randomly from 0-9\n",
    "print(random.randrange(3, 6)) # choose randomly from 3-5"
   ]
  },
  {
   "cell_type": "code",
   "execution_count": 14,
   "id": "2045b74a",
   "metadata": {},
   "outputs": [
    {
     "name": "stdout",
     "output_type": "stream",
     "text": [
      "[4, 5, 8, 1, 2, 6, 7, 3, 0, 9]\n"
     ]
    }
   ],
   "source": [
    "up_to_ten = list(range(10))\n",
    "random.shuffle(up_to_ten)\n",
    "print(up_to_ten)"
   ]
  },
  {
   "cell_type": "code",
   "execution_count": 15,
   "id": "a263cf9d",
   "metadata": {},
   "outputs": [
    {
     "data": {
      "text/plain": [
       "'Bob'"
      ]
     },
     "execution_count": 15,
     "metadata": {},
     "output_type": "execute_result"
    }
   ],
   "source": [
    "best_friend = random.choice(['John', 'Alice', 'Bob', 'Charlie'])\n",
    "best_friend"
   ]
  },
  {
   "cell_type": "code",
   "execution_count": 16,
   "id": "907491b2",
   "metadata": {},
   "outputs": [
    {
     "data": {
      "text/plain": [
       "[9, 31, 95, 46, 5, 53]"
      ]
     },
     "execution_count": 16,
     "metadata": {},
     "output_type": "execute_result"
    }
   ],
   "source": [
    "lottery_numbers = random.sample(range(99), 6)\n",
    "lottery_numbers"
   ]
  },
  {
   "cell_type": "code",
   "execution_count": 17,
   "id": "20c13aea",
   "metadata": {},
   "outputs": [
    {
     "data": {
      "text/plain": [
       "[2, 9, 5, 6, 6, 4]"
      ]
     },
     "execution_count": 17,
     "metadata": {},
     "output_type": "execute_result"
    }
   ],
   "source": [
    "# To choose a sample of elements with replacement (allow duplicates),\n",
    "# just make multiple calls to random.choice:\n",
    "\n",
    "four_with_replacement = [random.choice(range(10)) for _ in range(6)]\n",
    "four_with_replacement"
   ]
  },
  {
   "cell_type": "code",
   "execution_count": 18,
   "id": "d1f07c60",
   "metadata": {},
   "outputs": [],
   "source": [
    "# Object oriented programming\n",
    "# Imagine we didn't have the Set class by default, we need to be able to add items, remove\n",
    "# items, check if it contains a certain value\n",
    "\n",
    "# PascalCase names by convention\n",
    "class Set:\n",
    "    \n",
    "    # these are member functions\n",
    "    # first parameter is 'self', referring to particular set object being used\n",
    "    \n",
    "    def __init__(self, values=None):\n",
    "        \"\"\"This is the constructor that is called when you create a new Set\n",
    "        Examples:\n",
    "        s1 = Set() # empty set\n",
    "        s2 = Set([1, 2, 3, 4]) # initialized with values\"\"\"\n",
    "        \n",
    "        # each instance of set has its own dict property, which we will use\n",
    "        # to track memberships\n",
    "        self.dict = {}\n",
    "        \n",
    "        if values is not None:\n",
    "            for value in values:\n",
    "                self.add(value)\n",
    "                \n",
    "    def __repr__(self):\n",
    "        \"\"\"String representation of the object, access by passing it to str()\"\"\"\n",
    "        return \"Set: \" + str(self.dict.keys())\n",
    "    \n",
    "    # Represent membership by being a key in self.dict with a value 'True'\n",
    "    def add(self, value):\n",
    "        self.dict[value] = True\n",
    "    \n",
    "    # Value is in the set if it's a key in the dict\n",
    "    def contains(self, value):\n",
    "        return value in self.dict\n",
    "    \n",
    "    def remove(self, value):\n",
    "        del self.dict[value]"
   ]
  },
  {
   "cell_type": "code",
   "execution_count": 19,
   "id": "843cb199",
   "metadata": {},
   "outputs": [
    {
     "name": "stdout",
     "output_type": "stream",
     "text": [
      "True\n",
      "False\n"
     ]
    }
   ],
   "source": [
    "s = Set([1, 2, 3])\n",
    "s.add(4)\n",
    "print(s.contains(4)) # should be True\n",
    "s.remove(3)\n",
    "print(s.contains(3)) # should be False"
   ]
  },
  {
   "cell_type": "code",
   "execution_count": 20,
   "id": "b6406969",
   "metadata": {},
   "outputs": [],
   "source": [
    "# Functional Tools from functools lib\n",
    "# partial -> combine two functions \n",
    "# map, reduce, filter -> alternatives to list comprehensions"
   ]
  },
  {
   "cell_type": "code",
   "execution_count": 21,
   "id": "078d9c7c",
   "metadata": {},
   "outputs": [
    {
     "name": "stdout",
     "output_type": "stream",
     "text": [
      "0 1\n",
      "1 2\n",
      "2 3\n",
      "[(1, 'a'), (2, 'b'), (3, 'c')]\n"
     ]
    }
   ],
   "source": [
    "# enumerate -> tuple of index, element for a list\n",
    "# zip -> transform multiple lists into a single list of tuples for corresponding elements\n",
    "\n",
    "x = [1, 2, 3]\n",
    "for idx, item in enumerate(x):\n",
    "    print(idx, item)\n",
    "    \n",
    "y = ['a', 'b', 'c']\n",
    "print(list(zip(x, y)))"
   ]
  },
  {
   "cell_type": "code",
   "execution_count": 22,
   "id": "e59eca0c",
   "metadata": {},
   "outputs": [
    {
     "name": "stdout",
     "output_type": "stream",
     "text": [
      "('a', 'b', 'c')\n",
      "(1, 2, 3)\n"
     ]
    }
   ],
   "source": [
    "# zip will stop as soon as first list ends if lists are different lengths\n",
    "# can also unzip \n",
    "\n",
    "pairs = [('a', 1), ('b', 2), ('c', 3)]\n",
    "letters, numbers = zip(*pairs)\n",
    "print(letters)\n",
    "print(numbers)"
   ]
  },
  {
   "cell_type": "code",
   "execution_count": 23,
   "id": "b5d92b4c",
   "metadata": {},
   "outputs": [
    {
     "name": "stdout",
     "output_type": "stream",
     "text": [
      "('a', 'b', 'c') \n",
      " (1, 2, 3)\n"
     ]
    }
   ],
   "source": [
    "# same as \n",
    "x, y = list(zip(('a', 1), ('b', 2), ('c', 3)))\n",
    "print(x, '\\n', y)"
   ]
  },
  {
   "cell_type": "code",
   "execution_count": 24,
   "id": "5b26bb7d",
   "metadata": {},
   "outputs": [
    {
     "data": {
      "text/plain": [
       "3"
      ]
     },
     "execution_count": 24,
     "metadata": {},
     "output_type": "execute_result"
    }
   ],
   "source": [
    "# Use arg unpacking with any function:\n",
    "\n",
    "def add(a, b): return a + b\n",
    "\n",
    "add(1, 2)"
   ]
  },
  {
   "cell_type": "code",
   "execution_count": 25,
   "id": "f1ad9212",
   "metadata": {},
   "outputs": [
    {
     "ename": "TypeError",
     "evalue": "add() missing 1 required positional argument: 'b'",
     "output_type": "error",
     "traceback": [
      "\u001b[0;31m---------------------------------------------------------------------------\u001b[0m",
      "\u001b[0;31mTypeError\u001b[0m                                 Traceback (most recent call last)",
      "\u001b[0;32m<ipython-input-25-b91bee3cd37c>\u001b[0m in \u001b[0;36m<module>\u001b[0;34m\u001b[0m\n\u001b[1;32m      1\u001b[0m \u001b[0;31m# need to unpack this one\u001b[0m\u001b[0;34m\u001b[0m\u001b[0;34m\u001b[0m\u001b[0;34m\u001b[0m\u001b[0m\n\u001b[1;32m      2\u001b[0m \u001b[0;34m\u001b[0m\u001b[0m\n\u001b[0;32m----> 3\u001b[0;31m \u001b[0madd\u001b[0m\u001b[0;34m(\u001b[0m\u001b[0;34m[\u001b[0m\u001b[0;36m1\u001b[0m\u001b[0;34m,\u001b[0m \u001b[0;36m2\u001b[0m\u001b[0;34m]\u001b[0m\u001b[0;34m)\u001b[0m\u001b[0;34m\u001b[0m\u001b[0;34m\u001b[0m\u001b[0m\n\u001b[0m",
      "\u001b[0;31mTypeError\u001b[0m: add() missing 1 required positional argument: 'b'"
     ]
    }
   ],
   "source": [
    "# need to unpack this one\n",
    "\n",
    "add([1, 2])"
   ]
  },
  {
   "cell_type": "code",
   "execution_count": 26,
   "id": "da3c239a",
   "metadata": {},
   "outputs": [
    {
     "data": {
      "text/plain": [
       "3"
      ]
     },
     "execution_count": 26,
     "metadata": {},
     "output_type": "execute_result"
    }
   ],
   "source": [
    "# now it works\n",
    "\n",
    "add(*[1, 2])"
   ]
  },
  {
   "cell_type": "code",
   "execution_count": 27,
   "id": "1cd40c4c",
   "metadata": {},
   "outputs": [
    {
     "name": "stdout",
     "output_type": "stream",
     "text": [
      "Unnamed args: (1, 2)\n",
      "Keyword args: {'key': 'word', 'key2': 'word2'}\n"
     ]
    }
   ],
   "source": [
    "# args and kwargs\n",
    "# args = tuple of unnamed arguments\n",
    "# kwargs = dict of named arguments\n",
    "def magic(*args, **kwargs):\n",
    "    print('Unnamed args:', args)\n",
    "    print('Keyword args:', kwargs)\n",
    "\n",
    "magic(1, 2, key='word', key2='word2')"
   ]
  },
  {
   "cell_type": "code",
   "execution_count": null,
   "id": "2782093a",
   "metadata": {},
   "outputs": [],
   "source": []
  }
 ],
 "metadata": {
  "kernelspec": {
   "display_name": "Python 3",
   "language": "python",
   "name": "python3"
  },
  "language_info": {
   "codemirror_mode": {
    "name": "ipython",
    "version": 3
   },
   "file_extension": ".py",
   "mimetype": "text/x-python",
   "name": "python",
   "nbconvert_exporter": "python",
   "pygments_lexer": "ipython3",
   "version": "3.8.8"
  }
 },
 "nbformat": 4,
 "nbformat_minor": 5
}
